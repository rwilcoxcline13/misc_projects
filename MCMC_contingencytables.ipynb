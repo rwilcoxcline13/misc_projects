{
 "cells": [
  {
   "cell_type": "markdown",
   "metadata": {},
   "source": [
    "<h2> Russel Wilcox-Cline </h2>\n",
    "<h3> Applied Stochastic Processes: Homework 4 </h3>"
   ]
  },
  {
   "cell_type": "code",
   "execution_count": 1,
   "metadata": {},
   "outputs": [],
   "source": [
    "import numpy as np\n",
    "import matplotlib.pyplot as plt\n",
    "from scipy.misc import factorial\n",
    "import sympy as sym\n",
    "from sympy import init_printing\n",
    "\n",
    "init_printing()\n",
    "%matplotlib inline"
   ]
  },
  {
   "cell_type": "markdown",
   "metadata": {},
   "source": [
    "<h4> Part a </h4>\n",
    "\n",
    "Let us recognize that the sum of the rows and columns are the marginal distributions and are fixed values. If we were only concerned with the sum of the rows or the sum of the columns, independent of each other, then the marginal distribution would be that of a binomial. We are, however, interested in the sum of both the rows and columns thus we are concerned with the joint distribution, which would be a $\\textbf{hyper-geometric distribution}$."
   ]
  },
  {
   "cell_type": "markdown",
   "metadata": {},
   "source": [
    "<h4> Part b/c </h4>\n",
    "\n",
    "<p> We want to consider all sets of 5x5 tables such that the rows and columns sum to 17. Let us define the maximum value in the table as $Y_{max} = 15$. Let us define the initial table to be \n",
    "$$\n",
    "x_{0} = \\begin{pmatrix}\n",
    "15 & 0 & 0 &0  &2 \\\\ \n",
    " 2&15 & 0 & 0 & 0\\\\ \n",
    "0 &2 &15  & 0 & 0\\\\ \n",
    "0 & 0 & 2 &15  &0 \\\\ \n",
    "0 &  0&0  & 2 &15 \n",
    "\\end{pmatrix}\n",
    "$$\n",
    "\n",
    "Next we need to define the step in the MCMC. In this case we need to ensure that the new matrix has a row and column sum of 17. This can be accomplished by the following transformation:\n",
    "\n",
    "$$\n",
    "\\xi = \\begin{pmatrix}\n",
    "+1 & -1 & 0 &0  &0 \\\\ \n",
    "-1& +1 & 0 & 0 & 0\\\\ \n",
    "0 &0 & 0 & 0 & 0\\\\ \n",
    "0 & 0 & 0 &0 &0 \\\\ \n",
    "0 &  0&0  & 0 &0 \n",
    "\\end{pmatrix}\n",
    "$$\n",
    "\n",
    "where these transition entries $\\begin{pmatrix}\n",
    "+ & - \\\\\n",
    "- & + \\\\\n",
    "\\end{pmatrix}\n",
    "$  can occur in any two rows and any two entries in the matrix $\\xi$. Let us also realize that the ordering of the positive and negative entries can be flipped, thus let us define a probability $\\beta = 0.5$ that a new matrix will either have entries of $\n",
    "\\xi = \\begin{pmatrix}\n",
    "+ & - \\\\\n",
    "- & + \\\\\n",
    "\\end{pmatrix}\n",
    "$ or $\n",
    "\\xi = \\begin{pmatrix}\n",
    "- & + \\\\\n",
    "+ & - \\\\\n",
    "\\end{pmatrix}\n",
    "$\n",
    "Any two rows and columns can be picked, with no preference over one to another to be assigned the transition entries. Thus we will pull the rows and columns from a uniform distribution. The new step will be defined as\n",
    "\n",
    "$$x_{t+1} = x_{i}+\\epsilon\\xi$$\n",
    "\n",
    "where $\\epsilon = \\pm 1$ assigned with probability $\\beta$. We also have to ensure that the new table does not have any negative entries, and therefore belongs to the set in interest. Because we are pulling the rows and columns from a uniform distribution, and the row and column sums are preserved, therefore the new step must have been sampled from a uniform distribution in the table state-space.\n",
    "\n",
    "\n",
    "\n",
    "\n"
   ]
  },
  {
   "cell_type": "code",
   "execution_count": 2,
   "metadata": {
    "collapsed": true
   },
   "outputs": [],
   "source": [
    "def random_row_cols():\n",
    "    \n",
    "        #Pull random row\n",
    "        random_row1 = np.random.randint(0, 5)\n",
    "        rcheck = 0\n",
    "    \n",
    "    \n",
    "\n",
    "        #Make sure the second row isn't the same as the first\n",
    "        while rcheck == 0:\n",
    "\n",
    "            random_row2 = np.random.randint(0, 5)\n",
    "\n",
    "            if random_row2 == random_row1:\n",
    "\n",
    "                rcheck = 0\n",
    "\n",
    "            else:\n",
    "\n",
    "                rcheck = 1\n",
    "\n",
    "                r_accept = [random_row1, random_row2]\n",
    "                \n",
    "        return r_accept\n",
    "    \n",
    "def step_generator():\n",
    "\n",
    "    r_rows = random_row_cols()\n",
    "    r_cols = random_row_cols()\n",
    "    step = np.zeros((5, 5))\n",
    "\n",
    "    step[r_rows[0], r_cols[0]] = 1\n",
    "    step[r_rows[0], r_cols[1]] = -1\n",
    "    step[r_rows[1], r_cols[0]] = -1\n",
    "    step[r_rows[1], r_cols[1]] = 1\n",
    "\n",
    "    rand = np.random.rand()\n",
    "\n",
    "    if rand >= 0.5:\n",
    "\n",
    "        step = -1*step\n",
    "\n",
    "    else:\n",
    "\n",
    "        step = step\n",
    "        \n",
    "    return step\n",
    "\n",
    "def likelihood(step):\n",
    "    \n",
    "    L = np.sum(np.sum(np.log(factorial(step)), axis = 1),axis = 0)\n",
    "    \n",
    "    return L\n",
    "\n",
    "def generate_new_step(initial_step):\n",
    "    \n",
    "    positive = 0\n",
    "    \n",
    "    while positive == 0:\n",
    "    \n",
    "    \n",
    "        step = 1*step_generator()\n",
    "        x_test = initial_step+step\n",
    "\n",
    "        if np.array_equal(x_test, np.abs(x_test)) == True: \n",
    "\n",
    "            positive = 1\n",
    "            \n",
    "\n",
    "            \n",
    "            return x_test\n",
    "            \n",
    "\n",
    "\n",
    "\n",
    "        else:\n",
    "\n",
    "            positive = 0"
   ]
  },
  {
   "cell_type": "markdown",
   "metadata": {},
   "source": [
    "<h4> Check step </h4>"
   ]
  },
  {
   "cell_type": "code",
   "execution_count": 3,
   "metadata": {},
   "outputs": [
    {
     "name": "stdout",
     "output_type": "stream",
     "text": [
      "x_initial\n"
     ]
    },
    {
     "data": {
      "text/latex": [
       "$$\\left[\\begin{matrix}15.0 & 0.0 & 0.0 & 0.0 & 2.0\\\\2.0 & 15.0 & 0.0 & 0.0 & 0.0\\\\0.0 & 2.0 & 15.0 & 0.0 & 0.0\\\\0.0 & 0.0 & 2.0 & 15.0 & 0.0\\\\0.0 & 0.0 & 0.0 & 2.0 & 15.0\\end{matrix}\\right]$$"
      ],
      "text/plain": [
       "⎡15.0  0.0   0.0   0.0   2.0 ⎤\n",
       "⎢                            ⎥\n",
       "⎢2.0   15.0  0.0   0.0   0.0 ⎥\n",
       "⎢                            ⎥\n",
       "⎢0.0   2.0   15.0  0.0   0.0 ⎥\n",
       "⎢                            ⎥\n",
       "⎢0.0   0.0   2.0   15.0  0.0 ⎥\n",
       "⎢                            ⎥\n",
       "⎣0.0   0.0   0.0   2.0   15.0⎦"
      ]
     },
     "execution_count": 3,
     "metadata": {},
     "output_type": "execute_result"
    }
   ],
   "source": [
    "#Define initial step\n",
    "\n",
    "initial_step = 15*np.eye(5, 5)\n",
    "diag = np.where(initial_step == 15)\n",
    "rs = diag[0][1:]\n",
    "cols = diag[1][0:-1]\n",
    "initial_step[0, -1] = 2\n",
    "initial_step[rs, cols] = 2\n",
    "\n",
    "print('x_initial')\n",
    "sym.Matrix(initial_step)"
   ]
  },
  {
   "cell_type": "code",
   "execution_count": 4,
   "metadata": {},
   "outputs": [
    {
     "name": "stdout",
     "output_type": "stream",
     "text": [
      "Row Sum = [ 17.  17.  17.  17.  17.]\n",
      "Column Sum = [ 17.  17.  17.  17.  17.]\n",
      "x_new\n"
     ]
    },
    {
     "data": {
      "text/latex": [
       "$$\\left[\\begin{matrix}15.0 & 0.0 & 0.0 & 0.0 & 2.0\\\\2.0 & 15.0 & 0.0 & 0.0 & 0.0\\\\0.0 & 2.0 & 14.0 & 0.0 & 1.0\\\\0.0 & 0.0 & 2.0 & 15.0 & 0.0\\\\0.0 & 0.0 & 1.0 & 2.0 & 14.0\\end{matrix}\\right]$$"
      ],
      "text/plain": [
       "⎡15.0  0.0   0.0   0.0   2.0 ⎤\n",
       "⎢                            ⎥\n",
       "⎢2.0   15.0  0.0   0.0   0.0 ⎥\n",
       "⎢                            ⎥\n",
       "⎢0.0   2.0   14.0  0.0   1.0 ⎥\n",
       "⎢                            ⎥\n",
       "⎢0.0   0.0   2.0   15.0  0.0 ⎥\n",
       "⎢                            ⎥\n",
       "⎣0.0   0.0   1.0   2.0   14.0⎦"
      ]
     },
     "execution_count": 4,
     "metadata": {},
     "output_type": "execute_result"
    }
   ],
   "source": [
    "new_step = generate_new_step(initial_step)\n",
    "print('Row Sum = {}' . format(np.sum(new_step, 0)))\n",
    "print('Column Sum = {}' . format(np.sum(new_step, 1)))\n",
    "print('x_new')\n",
    "sym.Matrix(new_step)"
   ]
  },
  {
   "cell_type": "code",
   "execution_count": 5,
   "metadata": {},
   "outputs": [],
   "source": [
    "n_steps = 10**7\n",
    "accepted_steps = np.zeros((5, 5, n_steps))\n",
    "accepted_steps[:, :, 0] = initial_step\n",
    "rcheck = np.sum(initial_step, axis = 0)+2\n",
    "ccheck = np.sum(initial_step, axis = 1)+2\n",
    "counts = np.zeros((16, n_steps))\n",
    "yhat = initial_step\n",
    "\n",
    "for i in range(0, 16):\n",
    "    \n",
    "    counts[i, 0] = len(np.where(initial_step == i)[0])\n",
    "    \n",
    "\n",
    "\n"
   ]
  },
  {
   "cell_type": "markdown",
   "metadata": {},
   "source": [
    "<p> Now we implement the MCMC. Let us define the total number of steps to be $10^{7}$. In order to accept the new step we will compare the steps using the likelihood function associated with the hypergeometric distribution. In order to avoid computational errors due to large numbers a log likelihood will be used with Hastings ratio defined as\n",
    "\n",
    "$$LR = \\sum_{rows}\\sum_{cols}\\log(x_{old}!) - \\sum_{rows}\\sum_{cols}\\log(x_{new}!)$$"
   ]
  },
  {
   "cell_type": "code",
   "execution_count": 6,
   "metadata": {},
   "outputs": [],
   "source": [
    "#Perform MCMC\n",
    "for n in range(n_steps-1):\n",
    "    \n",
    "    #Generate new step\n",
    "    new_step = generate_new_step(accepted_steps[:, :, n])\n",
    "    #Calculate likelihood\n",
    "    Lold = likelihood(accepted_steps[:, :, n])\n",
    "    Lnew = likelihood(new_step)\n",
    "    #Calculate Hastings Ratio \n",
    "    LR = Lold-Lnew\n",
    "    rnd = np.log(np.random.rand())\n",
    "    \n",
    "    \n",
    "    #Accept new step\n",
    "    if LR>=rnd:\n",
    "\n",
    "        accepted_steps[:, :, n+1] = new_step\n",
    "        \n",
    "        for i in range(0, 15):\n",
    "            \n",
    "            counts[i, n+1] = len(np.where(new_step == i)[0])\n",
    "            \n",
    "        \n",
    "    #Stay on current step \n",
    "    else:\n",
    "        \n",
    "        accepted_steps[:, :, n+1] = accepted_steps[:, :, n]\n",
    "\n",
    "\n",
    "#Calculate Posterior: Total number of values in the Contingency Table\n",
    "vals = np.zeros((16, n_steps))\n",
    "for i in range(n_steps):\n",
    "    \n",
    "    for j in range(16):\n",
    "        \n",
    "        vals[j, i] = len(np.where(accepted_steps[:, :, i] == j)[0])\n",
    "        "
   ]
  },
  {
   "cell_type": "code",
   "execution_count": 7,
   "metadata": {},
   "outputs": [
    {
     "name": "stdout",
     "output_type": "stream",
     "text": [
      "The p-value associated with Ymax = 15 is 4.4e-06\n"
     ]
    }
   ],
   "source": [
    "#Calculate Posterior and p-value for Ymax\n",
    "\n",
    "total_vals = np.sum(vals, axis = 1)\n",
    "p_val = total_vals[-1]/n_steps\n",
    "total_vals = total_vals/np.max(total_vals)\n",
    "x = np.arange(0, 16)\n",
    "print('The p-value associated with Ymax = 15 is {}' .format(p_val))\n",
    "        \n",
    "        \n",
    "\n",
    "\n"
   ]
  },
  {
   "cell_type": "code",
   "execution_count": 8,
   "metadata": {},
   "outputs": [
    {
     "data": {
      "image/png": "[encoded data removed]",
      "text/plain": [
       "<matplotlib.figure.Figure at 0x115ebf668>"
      ]
     },
     "metadata": {},
     "output_type": "display_data"
    }
   ],
   "source": [
    "fig = plt.figure()\n",
    "ax = fig.add_subplot(111)\n",
    "ax.plot(x, total_vals, alpha = 0.5, marker = 'o', linestyle = 'none')\n",
    "ax.set_xlabel('Value')\n",
    "ax.set_ylabel('Normalized Frequency')\n",
    "ax.set_title('Posterior: 10^7 steps')\n",
    "plt.show()\n",
    "\n",
    "\n"
   ]
  },
  {
   "cell_type": "code",
   "execution_count": null,
   "metadata": {},
   "outputs": [],
   "source": [
    "\n",
    "    \n",
    "    "
   ]
  },
  {
   "cell_type": "code",
   "execution_count": null,
   "metadata": {},
   "outputs": [],
   "source": []
  },
  {
   "cell_type": "code",
   "execution_count": null,
   "metadata": {},
   "outputs": [],
   "source": []
  },
  {
   "cell_type": "code",
   "execution_count": null,
   "metadata": {
    "collapsed": true
   },
   "outputs": [],
   "source": []
  },
  {
   "cell_type": "code",
   "execution_count": null,
   "metadata": {
    "collapsed": true
   },
   "outputs": [],
   "source": []
  },
  {
   "cell_type": "code",
   "execution_count": null,
   "metadata": {
    "collapsed": true
   },
   "outputs": [],
   "source": []
  }
 ],
 "metadata": {
  "kernelspec": {
   "display_name": "Python 3",
   "language": "python",
   "name": "python3"
  },
  "language_info": {
   "codemirror_mode": {
    "name": "ipython",
    "version": 3
   },
   "file_extension": ".py",
   "mimetype": "text/x-python",
   "name": "python",
   "nbconvert_exporter": "python",
   "pygments_lexer": "ipython3",
   "version": "3.6.1"
  }
 },
 "nbformat": 4,
 "nbformat_minor": 2
}
